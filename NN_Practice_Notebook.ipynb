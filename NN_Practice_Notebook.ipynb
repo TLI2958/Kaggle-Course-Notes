{
 "cells": [
  {
   "cell_type": "markdown",
   "id": "834e64d1",
   "metadata": {},
   "source": [
    "### 1. Prepare pkgs"
   ]
  },
  {
   "cell_type": "code",
   "execution_count": 8,
   "id": "2270cc91",
   "metadata": {},
   "outputs": [],
   "source": [
    "import matplotlib.pyplot as plt \n",
    "plt.style.use('seaborn-whitegrid')\n",
    "plt.rc('figure',autolayout = True)\n",
    "plt.rc('axes', labelweight = 'bold', labelsize = 'large',\n",
    "      titleweight = 'bold', titlesize = 18,\n",
    "      titlepad = 10)\n",
    "plt.rc('animation',html = 'html5')"
   ]
  },
  {
   "cell_type": "code",
   "execution_count": 9,
   "id": "eaa65bd2",
   "metadata": {},
   "outputs": [],
   "source": [
    "import pandas as pd  \n",
    "from sklearn.preprocessing import StandardScaler, OneHotEncoder\n",
    "from sklearn.compose import make_column_transformer\n",
    "from sklearn.model_selection import GroupShuffleSplit"
   ]
  },
  {
   "cell_type": "code",
   "execution_count": 10,
   "id": "168f8c3d",
   "metadata": {},
   "outputs": [],
   "source": [
    "from tensorflow import keras\n",
    "from tensorflow.keras import layers\n",
    "from tensorflow.keras import callbacks"
   ]
  },
  {
   "cell_type": "markdown",
   "id": "e5350bea",
   "metadata": {},
   "source": [
    "### 2. Load File and Preprocessing"
   ]
  },
  {
   "cell_type": "markdown",
   "id": "93a1fc24",
   "metadata": {},
   "source": [
    "#### 2-1-1 Continuous"
   ]
  },
  {
   "cell_type": "code",
   "execution_count": 4,
   "id": "0becfd34",
   "metadata": {},
   "outputs": [],
   "source": [
    "spotify = pd.read_csv('Documents/spotify.csv')\n",
    "X = spotify.copy().dropna()\n",
    "y = X.pop('track_popularity')\n",
    "artists = X.track_artist"
   ]
  },
  {
   "cell_type": "code",
   "execution_count": 5,
   "id": "9adc36f1",
   "metadata": {},
   "outputs": [],
   "source": [
    "feature_nums = X.select_dtypes(exclude = 'object').columns.to_list()"
   ]
  },
  {
   "cell_type": "code",
   "execution_count": 6,
   "id": "88f216a7",
   "metadata": {},
   "outputs": [
    {
     "data": {
      "text/plain": [
       "['danceability',\n",
       " 'energy',\n",
       " 'key',\n",
       " 'loudness',\n",
       " 'mode',\n",
       " 'speechiness',\n",
       " 'acousticness',\n",
       " 'instrumentalness',\n",
       " 'liveness',\n",
       " 'valence',\n",
       " 'tempo',\n",
       " 'duration_ms']"
      ]
     },
     "execution_count": 6,
     "metadata": {},
     "output_type": "execute_result"
    }
   ],
   "source": [
    "feature_nums"
   ]
  },
  {
   "cell_type": "code",
   "execution_count": 7,
   "id": "81e79f21",
   "metadata": {},
   "outputs": [],
   "source": [
    "feature_cat = ['playlist_genre']"
   ]
  },
  {
   "cell_type": "code",
   "execution_count": 8,
   "id": "ec76f089",
   "metadata": {},
   "outputs": [],
   "source": [
    "preprocessor = make_column_transformer(\n",
    "                (StandardScaler(),feature_nums),\n",
    "                (OneHotEncoder(),feature_cat),\n",
    "                )"
   ]
  },
  {
   "cell_type": "code",
   "execution_count": 11,
   "id": "d05e748f",
   "metadata": {},
   "outputs": [],
   "source": [
    "def group_split(X,y,group,train_size): # split by group in case of data leakage\n",
    "    splitter = GroupShuffleSplit(train_size = train_size)\n",
    "    train, test, = next(splitter.split(X, y, groups=group))\n",
    "    return (X.iloc[train], X.iloc[test], y.iloc[train], y.iloc[test])"
   ]
  },
  {
   "cell_type": "code",
   "execution_count": 16,
   "id": "ad8798f7",
   "metadata": {},
   "outputs": [],
   "source": [
    "X_train, X_valid, y_train, y_valid = group_split(X,y, artists,.75)"
   ]
  },
  {
   "cell_type": "markdown",
   "id": "8ef4ce29",
   "metadata": {},
   "source": [
    "#### 2-1-2 Discrete"
   ]
  },
  {
   "cell_type": "code",
   "execution_count": 4,
   "id": "aa322a13",
   "metadata": {},
   "outputs": [],
   "source": [
    "# load some extra pkgs\n",
    "from sklearn.model_selection import train_test_split\n",
    "from sklearn.impute import SimpleImputer\n",
    "from sklearn.pipeline import make_pipeline"
   ]
  },
  {
   "cell_type": "code",
   "execution_count": 22,
   "id": "68c26aa3",
   "metadata": {},
   "outputs": [],
   "source": [
    "hotel = pd.read_csv('Documents/hotel.csv')\n",
    "X = hotel.copy()\n",
    "y = X.pop('is_canceled')"
   ]
  },
  {
   "cell_type": "code",
   "execution_count": 23,
   "id": "015b72de",
   "metadata": {},
   "outputs": [],
   "source": [
    "X['arrival_date_month'] = \\\n",
    "    X['arrival_date_month'].map(\n",
    "        {'January':1, 'February': 2, 'March':3,\n",
    "         'April':4, 'May':5, 'June':6, 'July':7,\n",
    "         'August':8, 'September':9, 'October':10,\n",
    "         'November':11, 'December':12}\n",
    "    )\n",
    "features_num = [\n",
    "    \"lead_time\", \"arrival_date_week_number\",\n",
    "    \"arrival_date_day_of_month\", \"stays_in_weekend_nights\",\n",
    "    \"stays_in_week_nights\", \"adults\", \"children\", \"babies\",\n",
    "    \"is_repeated_guest\", \"previous_cancellations\",\n",
    "    \"previous_bookings_not_canceled\", \"required_car_parking_spaces\",\n",
    "    \"total_of_special_requests\", \"adr\",\n",
    "]\n",
    "features_cat = [\n",
    "    \"hotel\", \"arrival_date_month\", \"meal\",\n",
    "    \"market_segment\", \"distribution_channel\",\n",
    "    \"reserved_room_type\", \"deposit_type\", \"customer_type\",\n",
    "]"
   ]
  },
  {
   "cell_type": "code",
   "execution_count": 24,
   "id": "a5a9bf6c",
   "metadata": {},
   "outputs": [],
   "source": [
    "# make preprocesser\n",
    "transformer_num = make_pipeline(\n",
    "    SimpleImputer(strategy = 'constant'),\n",
    "    StandardScaler(),\n",
    ")\n",
    "\n",
    "transformer_cat = make_pipeline(\n",
    "    SimpleImputer(strategy='constant', fill_value='NA'),\n",
    "    OneHotEncoder(handle_unknown='ignore'),)\n",
    "\n",
    "# combine\n",
    "preprocessor = make_column_transformer(\n",
    "                (transformer_num, features_num),\n",
    "                (transformer_cat, features_cat),\n",
    ")"
   ]
  },
  {
   "cell_type": "code",
   "execution_count": 25,
   "id": "372f6c92",
   "metadata": {},
   "outputs": [],
   "source": [
    "X_train, X_valid, y_train, y_valid = train_test_split(X,y, stratify = y,\n",
    "                                                     train_size = .75)\n",
    "# stratify and shuffle in train_test_split():\n",
    "# stratify to make sure equal proprotions of class in samples\n",
    "# shuffle "
   ]
  },
  {
   "cell_type": "markdown",
   "id": "33da99d0",
   "metadata": {},
   "source": [
    "#### 2-2 Transform data"
   ]
  },
  {
   "cell_type": "code",
   "execution_count": 26,
   "id": "57f989ee",
   "metadata": {},
   "outputs": [],
   "source": [
    "X_train = preprocessor.fit_transform(X_train)\n",
    "X_valid = preprocessor.transform(X_valid)"
   ]
  },
  {
   "cell_type": "markdown",
   "id": "162e67bf",
   "metadata": {},
   "source": [
    "### 3. Compile & Run Model\n",
    "**temper parameters**"
   ]
  },
  {
   "cell_type": "code",
   "execution_count": 27,
   "id": "2e4e9acc",
   "metadata": {},
   "outputs": [],
   "source": [
    "input_shape = [X_train.shape[1]] # in list"
   ]
  },
  {
   "cell_type": "code",
   "execution_count": 28,
   "id": "d29cffc0",
   "metadata": {},
   "outputs": [],
   "source": [
    "model = keras.Sequential([\n",
    "        layers.BatchNormalization(input_shape = input_shape), # (un)comment\n",
    "        #layers.Dense(128, activation='relu',# may use layers.Activation\n",
    "         #            input_shape = input_shape),\n",
    "        layers.Dense(256, activation='relu'), # for classification\n",
    "        layers.BatchNormalization(),\n",
    "        layers.Dropout(.3),\n",
    "        layers.Dense(256, activation='relu'),\n",
    "        layers.BatchNormalization(),\n",
    "        layers.Dropout(.3),\n",
    "        #layers.Dense(64, activation='relu'),\n",
    "        #layers.Dense(1) # output layer, if binary, use activation = 'sigmoid' to transform into probability\n",
    "        layers.Dense(1, activation='sigmoid')\n",
    "])"
   ]
  },
  {
   "cell_type": "code",
   "execution_count": 29,
   "id": "efd3f103",
   "metadata": {},
   "outputs": [],
   "source": [
    "model.compile(\n",
    "            optimizer = 'adam',\n",
    "            #loss = 'mae', # 'binary_crossentropy' if classification\n",
    "            loss = 'binary_crossentropy', # 'mae' if continuous\n",
    "            metrics = ['binary_accuracy']\n",
    ")"
   ]
  },
  {
   "cell_type": "code",
   "execution_count": 30,
   "id": "87a2eb98",
   "metadata": {},
   "outputs": [],
   "source": [
    "Early_stopping = callbacks.EarlyStopping(\n",
    "                    min_delta= .001,\n",
    "                    patience = 5,\n",
    "                    restore_best_weights= True) # save time and prevent overfitting"
   ]
  },
  {
   "cell_type": "code",
   "execution_count": 31,
   "id": "f0300ef5",
   "metadata": {
    "collapsed": true
   },
   "outputs": [
    {
     "name": "stdout",
     "output_type": "stream",
     "text": [
      "Train on 89542 samples, validate on 29848 samples\n",
      "Epoch 1/200\n",
      "89542/89542 [==============================] - 3s 30us/sample - loss: 0.4841 - binary_accuracy: 0.7702 - val_loss: 0.4330 - val_binary_accuracy: 0.7969\n",
      "Epoch 2/200\n",
      "89542/89542 [==============================] - 3s 37us/sample - loss: 0.4247 - binary_accuracy: 0.7992 - val_loss: 0.4021 - val_binary_accuracy: 0.8105\n",
      "Epoch 3/200\n",
      "89542/89542 [==============================] - 3s 39us/sample - loss: 0.4099 - binary_accuracy: 0.8072 - val_loss: 0.3938 - val_binary_accuracy: 0.8168\n",
      "Epoch 4/200\n",
      "89542/89542 [==============================] - 3s 37us/sample - loss: 0.4026 - binary_accuracy: 0.8119 - val_loss: 0.3906 - val_binary_accuracy: 0.8198\n",
      "Epoch 5/200\n",
      "89542/89542 [==============================] - 3s 36us/sample - loss: 0.3973 - binary_accuracy: 0.8143 - val_loss: 0.3852 - val_binary_accuracy: 0.8236\n",
      "Epoch 6/200\n",
      "89542/89542 [==============================] - 3s 36us/sample - loss: 0.3927 - binary_accuracy: 0.8171 - val_loss: 0.3828 - val_binary_accuracy: 0.8253\n",
      "Epoch 7/200\n",
      "89542/89542 [==============================] - 3s 39us/sample - loss: 0.3882 - binary_accuracy: 0.8191 - val_loss: 0.3795 - val_binary_accuracy: 0.8246\n",
      "Epoch 8/200\n",
      "89542/89542 [==============================] - 4s 42us/sample - loss: 0.3851 - binary_accuracy: 0.8207 - val_loss: 0.3757 - val_binary_accuracy: 0.8272\n",
      "Epoch 9/200\n",
      "89542/89542 [==============================] - 3s 36us/sample - loss: 0.3813 - binary_accuracy: 0.8224 - val_loss: 0.3738 - val_binary_accuracy: 0.8311\n",
      "Epoch 10/200\n",
      "89542/89542 [==============================] - 4s 39us/sample - loss: 0.3788 - binary_accuracy: 0.8241 - val_loss: 0.3698 - val_binary_accuracy: 0.8290\n",
      "Epoch 11/200\n",
      "89542/89542 [==============================] - 4s 40us/sample - loss: 0.3761 - binary_accuracy: 0.8249 - val_loss: 0.3694 - val_binary_accuracy: 0.8295\n",
      "Epoch 12/200\n",
      "89542/89542 [==============================] - 3s 37us/sample - loss: 0.3753 - binary_accuracy: 0.8258 - val_loss: 0.3719 - val_binary_accuracy: 0.8302\n",
      "Epoch 13/200\n",
      "89542/89542 [==============================] - 3s 37us/sample - loss: 0.3718 - binary_accuracy: 0.8277 - val_loss: 0.3653 - val_binary_accuracy: 0.8328\n",
      "Epoch 14/200\n",
      "89542/89542 [==============================] - 3s 38us/sample - loss: 0.3695 - binary_accuracy: 0.8282 - val_loss: 0.3644 - val_binary_accuracy: 0.8331\n",
      "Epoch 15/200\n",
      "89542/89542 [==============================] - 3s 37us/sample - loss: 0.3664 - binary_accuracy: 0.8281 - val_loss: 0.3630 - val_binary_accuracy: 0.8337\n",
      "Epoch 16/200\n",
      "89542/89542 [==============================] - 3s 37us/sample - loss: 0.3667 - binary_accuracy: 0.8296 - val_loss: 0.3638 - val_binary_accuracy: 0.8346\n",
      "Epoch 17/200\n",
      "89542/89542 [==============================] - 3s 35us/sample - loss: 0.3638 - binary_accuracy: 0.8315 - val_loss: 0.3615 - val_binary_accuracy: 0.8357\n",
      "Epoch 18/200\n",
      "89542/89542 [==============================] - 3s 35us/sample - loss: 0.3616 - binary_accuracy: 0.8313 - val_loss: 0.3600 - val_binary_accuracy: 0.8371\n",
      "Epoch 19/200\n",
      "89542/89542 [==============================] - 3s 35us/sample - loss: 0.3607 - binary_accuracy: 0.8320 - val_loss: 0.3595 - val_binary_accuracy: 0.8367\n",
      "Epoch 20/200\n",
      "89542/89542 [==============================] - 3s 35us/sample - loss: 0.3584 - binary_accuracy: 0.8347 - val_loss: 0.3594 - val_binary_accuracy: 0.8365\n",
      "Epoch 21/200\n",
      "89542/89542 [==============================] - 3s 36us/sample - loss: 0.3575 - binary_accuracy: 0.8345 - val_loss: 0.3583 - val_binary_accuracy: 0.8372\n",
      "Epoch 22/200\n",
      "89542/89542 [==============================] - 3s 36us/sample - loss: 0.3566 - binary_accuracy: 0.8361 - val_loss: 0.3555 - val_binary_accuracy: 0.8384\n",
      "Epoch 23/200\n",
      "89542/89542 [==============================] - 3s 34us/sample - loss: 0.3558 - binary_accuracy: 0.8366 - val_loss: 0.3580 - val_binary_accuracy: 0.8395\n",
      "Epoch 24/200\n",
      "89542/89542 [==============================] - 3s 35us/sample - loss: 0.3554 - binary_accuracy: 0.8358 - val_loss: 0.3549 - val_binary_accuracy: 0.8381\n",
      "Epoch 25/200\n",
      "89542/89542 [==============================] - 3s 35us/sample - loss: 0.3528 - binary_accuracy: 0.8380 - val_loss: 0.3568 - val_binary_accuracy: 0.8381\n",
      "Epoch 26/200\n",
      "89542/89542 [==============================] - 3s 36us/sample - loss: 0.3525 - binary_accuracy: 0.8369 - val_loss: 0.3559 - val_binary_accuracy: 0.8387\n",
      "Epoch 27/200\n",
      "89542/89542 [==============================] - 3s 35us/sample - loss: 0.3498 - binary_accuracy: 0.8389 - val_loss: 0.3537 - val_binary_accuracy: 0.8378\n",
      "Epoch 28/200\n",
      "89542/89542 [==============================] - 3s 35us/sample - loss: 0.3500 - binary_accuracy: 0.8386 - val_loss: 0.3544 - val_binary_accuracy: 0.8393\n",
      "Epoch 29/200\n",
      "89542/89542 [==============================] - 3s 35us/sample - loss: 0.3489 - binary_accuracy: 0.8391 - val_loss: 0.3523 - val_binary_accuracy: 0.8411\n",
      "Epoch 30/200\n",
      "89542/89542 [==============================] - 3s 34us/sample - loss: 0.3475 - binary_accuracy: 0.8385 - val_loss: 0.3529 - val_binary_accuracy: 0.8400\n",
      "Epoch 31/200\n",
      "89542/89542 [==============================] - 3s 35us/sample - loss: 0.3480 - binary_accuracy: 0.8379 - val_loss: 0.3519 - val_binary_accuracy: 0.8406\n",
      "Epoch 32/200\n",
      "89542/89542 [==============================] - 3s 34us/sample - loss: 0.3453 - binary_accuracy: 0.8411 - val_loss: 0.3525 - val_binary_accuracy: 0.8402\n",
      "Epoch 33/200\n",
      "89542/89542 [==============================] - 3s 34us/sample - loss: 0.3442 - binary_accuracy: 0.8422 - val_loss: 0.3511 - val_binary_accuracy: 0.8402\n",
      "Epoch 34/200\n",
      "89542/89542 [==============================] - 3s 36us/sample - loss: 0.3450 - binary_accuracy: 0.8410 - val_loss: 0.3503 - val_binary_accuracy: 0.8412\n",
      "Epoch 35/200\n",
      "89542/89542 [==============================] - 4s 39us/sample - loss: 0.3432 - binary_accuracy: 0.8417 - val_loss: 0.3522 - val_binary_accuracy: 0.8412\n",
      "Epoch 36/200\n",
      "89542/89542 [==============================] - 3s 39us/sample - loss: 0.3420 - binary_accuracy: 0.8417 - val_loss: 0.3487 - val_binary_accuracy: 0.8420\n",
      "Epoch 37/200\n",
      "89542/89542 [==============================] - 3s 35us/sample - loss: 0.3411 - binary_accuracy: 0.8425 - val_loss: 0.3512 - val_binary_accuracy: 0.8408\n",
      "Epoch 38/200\n",
      "89542/89542 [==============================] - 3s 36us/sample - loss: 0.3407 - binary_accuracy: 0.8423 - val_loss: 0.3517 - val_binary_accuracy: 0.8386\n",
      "Epoch 39/200\n",
      "89542/89542 [==============================] - 3s 36us/sample - loss: 0.3415 - binary_accuracy: 0.8420 - val_loss: 0.3494 - val_binary_accuracy: 0.8426\n",
      "Epoch 40/200\n",
      "89542/89542 [==============================] - 3s 34us/sample - loss: 0.3389 - binary_accuracy: 0.8435 - val_loss: 0.3504 - val_binary_accuracy: 0.8412\n",
      "Epoch 41/200\n",
      "89542/89542 [==============================] - 3s 39us/sample - loss: 0.3375 - binary_accuracy: 0.8436 - val_loss: 0.3503 - val_binary_accuracy: 0.8405\n"
     ]
    }
   ],
   "source": [
    "history = model.fit(X_train, y_train,\n",
    "                   validation_data = (X_valid, y_valid),\n",
    "                   batch_size = 512, # samples to use in each run\n",
    "                   epochs = 200, # total runs\n",
    "                   callbacks = [Early_stopping],)"
   ]
  },
  {
   "cell_type": "markdown",
   "id": "43cd13ef",
   "metadata": {},
   "source": [
    "### 4. Visualization"
   ]
  },
  {
   "cell_type": "code",
   "execution_count": 32,
   "id": "81941a61",
   "metadata": {},
   "outputs": [],
   "source": [
    "history_df = pd.DataFrame(history.history) # logs "
   ]
  },
  {
   "cell_type": "code",
   "execution_count": 33,
   "id": "4bef3f24",
   "metadata": {},
   "outputs": [
    {
     "data": {
      "text/plain": [
       "<AxesSubplot:title={'center':'Accuracy'}>"
      ]
     },
     "execution_count": 33,
     "metadata": {},
     "output_type": "execute_result"
    },
    {
     "data": {
      "image/png": "[encoded data removed]",
      "text/plain": [
       "<Figure size 432x288 with 1 Axes>"
      ]
     },
     "metadata": {},
     "output_type": "display_data"
    },
    {
     "data": {
      "image/png": "[encoded data removed]",
      "text/plain": [
       "<Figure size 432x288 with 1 Axes>"
      ]
     },
     "metadata": {},
     "output_type": "display_data"
    }
   ],
   "source": [
    "# history_df.loc[:,['loss','val_loss']].plot()\n",
    "history_df.loc[:,['loss','val_loss']].plot(title = 'Cross_entropy')\n",
    "history_df.loc[:,['binary_accuracy', 'val_binary_accuracy']].plot(title = 'Accuracy')"
   ]
  },
  {
   "cell_type": "code",
   "execution_count": 34,
   "id": "27af37ae",
   "metadata": {},
   "outputs": [
    {
     "name": "stdout",
     "output_type": "stream",
     "text": [
      "Minimum Validation Loss: 0.3487\n"
     ]
    }
   ],
   "source": [
    "print(\"Minimum Validation Loss: {:0.4f}\".format(history_df['val_loss'].min()))"
   ]
  },
  {
   "cell_type": "code",
   "execution_count": 15,
   "id": "3cb03ae6",
   "metadata": {},
   "outputs": [
    {
     "data": {
      "text/plain": [
       "['__builtins__',\n",
       " '__cached__',\n",
       " '__doc__',\n",
       " '__file__',\n",
       " '__loader__',\n",
       " '__name__',\n",
       " '__package__',\n",
       " '__path__',\n",
       " '__spec__',\n",
       " '_sys',\n",
       " 'abs',\n",
       " 'accumulate_n',\n",
       " 'acos',\n",
       " 'acosh',\n",
       " 'add',\n",
       " 'add_n',\n",
       " 'angle',\n",
       " 'argmax',\n",
       " 'argmin',\n",
       " 'asin',\n",
       " 'asinh',\n",
       " 'atan',\n",
       " 'atan2',\n",
       " 'atanh',\n",
       " 'bessel_i0',\n",
       " 'bessel_i0e',\n",
       " 'bessel_i1',\n",
       " 'bessel_i1e',\n",
       " 'betainc',\n",
       " 'bincount',\n",
       " 'ceil',\n",
       " 'confusion_matrix',\n",
       " 'conj',\n",
       " 'cos',\n",
       " 'cosh',\n",
       " 'count_nonzero',\n",
       " 'cumprod',\n",
       " 'cumsum',\n",
       " 'cumulative_logsumexp',\n",
       " 'digamma',\n",
       " 'divide',\n",
       " 'divide_no_nan',\n",
       " 'equal',\n",
       " 'erf',\n",
       " 'erfc',\n",
       " 'erfinv',\n",
       " 'exp',\n",
       " 'expm1',\n",
       " 'floor',\n",
       " 'floordiv',\n",
       " 'floormod',\n",
       " 'greater',\n",
       " 'greater_equal',\n",
       " 'igamma',\n",
       " 'igammac',\n",
       " 'imag',\n",
       " 'in_top_k',\n",
       " 'invert_permutation',\n",
       " 'is_finite',\n",
       " 'is_inf',\n",
       " 'is_nan',\n",
       " 'is_non_decreasing',\n",
       " 'is_strictly_increasing',\n",
       " 'l2_normalize',\n",
       " 'lbeta',\n",
       " 'less',\n",
       " 'less_equal',\n",
       " 'lgamma',\n",
       " 'log',\n",
       " 'log1p',\n",
       " 'log_sigmoid',\n",
       " 'log_softmax',\n",
       " 'logical_and',\n",
       " 'logical_not',\n",
       " 'logical_or',\n",
       " 'logical_xor',\n",
       " 'maximum',\n",
       " 'minimum',\n",
       " 'mod',\n",
       " 'multiply',\n",
       " 'multiply_no_nan',\n",
       " 'ndtri',\n",
       " 'negative',\n",
       " 'nextafter',\n",
       " 'not_equal',\n",
       " 'polygamma',\n",
       " 'polyval',\n",
       " 'pow',\n",
       " 'real',\n",
       " 'reciprocal',\n",
       " 'reciprocal_no_nan',\n",
       " 'reduce_all',\n",
       " 'reduce_any',\n",
       " 'reduce_euclidean_norm',\n",
       " 'reduce_logsumexp',\n",
       " 'reduce_max',\n",
       " 'reduce_mean',\n",
       " 'reduce_min',\n",
       " 'reduce_prod',\n",
       " 'reduce_std',\n",
       " 'reduce_sum',\n",
       " 'reduce_variance',\n",
       " 'rint',\n",
       " 'round',\n",
       " 'rsqrt',\n",
       " 'scalar_mul',\n",
       " 'segment_max',\n",
       " 'segment_mean',\n",
       " 'segment_min',\n",
       " 'segment_prod',\n",
       " 'segment_sum',\n",
       " 'sigmoid',\n",
       " 'sign',\n",
       " 'sin',\n",
       " 'sinh',\n",
       " 'softmax',\n",
       " 'softplus',\n",
       " 'softsign',\n",
       " 'sqrt',\n",
       " 'square',\n",
       " 'squared_difference',\n",
       " 'subtract',\n",
       " 'tan',\n",
       " 'tanh',\n",
       " 'top_k',\n",
       " 'truediv',\n",
       " 'unsorted_segment_max',\n",
       " 'unsorted_segment_mean',\n",
       " 'unsorted_segment_min',\n",
       " 'unsorted_segment_prod',\n",
       " 'unsorted_segment_sqrt_n',\n",
       " 'unsorted_segment_sum',\n",
       " 'xdivy',\n",
       " 'xlogy',\n",
       " 'zero_fraction',\n",
       " 'zeta']"
      ]
     },
     "execution_count": 15,
     "metadata": {},
     "output_type": "execute_result"
    }
   ],
   "source": []
  }
 ],
 "metadata": {
  "kernelspec": {
   "display_name": "Python 3",
   "language": "python",
   "name": "python3"
  },
  "language_info": {
   "codemirror_mode": {
    "name": "ipython",
    "version": 3
   },
   "file_extension": ".py",
   "mimetype": "text/x-python",
   "name": "python",
   "nbconvert_exporter": "python",
   "pygments_lexer": "ipython3",
   "version": "3.7.11"
  },
  "toc": {
   "base_numbering": 1,
   "nav_menu": {},
   "number_sections": false,
   "sideBar": true,
   "skip_h1_title": false,
   "title_cell": "Table of Contents",
   "title_sidebar": "Contents",
   "toc_cell": false,
   "toc_position": {
    "height": "calc(100% - 180px)",
    "left": "10px",
    "top": "150px",
    "width": "250.433px"
   },
   "toc_section_display": true,
   "toc_window_display": false
  }
 },
 "nbformat": 4,
 "nbformat_minor": 5
}
